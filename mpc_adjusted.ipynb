{
 "cells": [
  {
   "cell_type": "code",
   "execution_count": 1,
   "metadata": {},
   "outputs": [],
   "source": [
    "import numpy as np"
   ]
  },
  {
   "cell_type": "code",
   "execution_count": 2,
   "metadata": {},
   "outputs": [],
   "source": [
    "def generate_U_Uck(N_tot, N, m, n):\n",
    "    for k in range(N_tot):    \n",
    "        p = k%n     \n",
    "        Uck = np.zeros((N, 1))\n",
    "        Uck[:n-p] = 1\n",
    "        Uk = np.zeros((N, m-1))\n",
    "        for i in range((N+p)//n):\n",
    "            Uk[(i+1)*n-p:(i+2)*n-p, i] = 1\n",
    "        \n",
    "        yield Uk, Uck"
   ]
  },
  {
   "cell_type": "code",
   "execution_count": 3,
   "metadata": {},
   "outputs": [],
   "source": [
    "from scripts.humanoid_mpc import MPC2Paper, MPCParams, feet, foot\n",
    "import matplotlib.pyplot as plt\n",
    "\n",
    "\n",
    "T = 0.02\n",
    "g = 9.87\n",
    "h_CoM = 0.44\n",
    "N_tot = 20\n",
    "N = 10\n",
    "m = 5\n",
    "n = 3\n",
    "\n",
    "robot_feet = feet(spread=0.05, length=0.04, width=0.04, right=foot(-0.04, 0), left=foot(+0.04, 0))\n",
    " \n",
    "\n",
    "mpc = MPC2Paper( T, N, h_CoM, g, alpha=1, beta=1,gamma=1, m=3, n_step=10, n_total=N_tot)"
   ]
  },
  {
   "cell_type": "code",
   "execution_count": 5,
   "metadata": {},
   "outputs": [],
   "source": [
    "x_path, zx_path, jerks = mpc.solve(solver='daqp', coord='x')\n",
    "\n",
    "plt.plot(Zxmin,'--', label= 'Zxmin')\n",
    "plt.plot(Zxmax,'--', label=\"Zxmax\")\n",
    "plt.plot(x_path, label=\"x_path\")\n",
    "plt.plot(zx_path, label=\"zx_path\")\n",
    "plt.xlabel('timestep')\n",
    "plt.ylim(min(Zxmin)-0.1, max(Zxmax)+0.1)\n",
    "\n",
    "plt.legend()\n",
    "plt.grid()"
   ]
  }
 ],
 "metadata": {
  "kernelspec": {
   "display_name": "robotics-project",
   "language": "python",
   "name": "python3"
  },
  "language_info": {
   "codemirror_mode": {
    "name": "ipython",
    "version": 3
   },
   "file_extension": ".py",
   "mimetype": "text/x-python",
   "name": "python",
   "nbconvert_exporter": "python",
   "pygments_lexer": "ipython3",
   "version": "3.10.13"
  }
 },
 "nbformat": 4,
 "nbformat_minor": 2
}
